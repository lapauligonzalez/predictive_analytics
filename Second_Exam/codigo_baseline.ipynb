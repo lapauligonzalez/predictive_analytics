{
 "cells": [
  {
   "cell_type": "markdown",
   "metadata": {},
   "source": [
    "### Librerías que voy a usar"
   ]
  },
  {
   "cell_type": "code",
   "execution_count": 22,
   "metadata": {},
   "outputs": [],
   "source": [
    "import os\n",
    "import pandas as pd\n",
    "import numpy as np\n",
    "import xgboost as xgb\n",
    "from sklearn import linear_model"
   ]
  },
  {
   "cell_type": "markdown",
   "metadata": {},
   "source": [
    "### Establezco mi directorio\n"
   ]
  },
  {
   "cell_type": "code",
   "execution_count": 5,
   "metadata": {},
   "outputs": [],
   "source": [
    "current_directory = os.getcwd()\n",
    "script_directory = \"C:/Users/paula/OneDrive/Documentos/Facultad/Análisis Predictivo/segundo_parcial\"  # Reemplaza esto con la ruta de tu script\n",
    "os.chdir(script_directory)"
   ]
  },
  {
   "cell_type": "markdown",
   "metadata": {},
   "source": [
    "### Cargo los datos"
   ]
  },
  {
   "cell_type": "code",
   "execution_count": 19,
   "metadata": {},
   "outputs": [],
   "source": [
    "df_train = pd.read_excel(\"origen_limpio.xlsx\") # Cargar el conjunto de datos de origen\n",
    "df_test = pd.read_excel(\"testear_limpio.xlsx\") # Cargar el conjunto de datos de testeo"
   ]
  },
  {
   "cell_type": "code",
   "execution_count": 20,
   "metadata": {},
   "outputs": [
    {
     "data": {
      "text/plain": [
       "(977541, 18)"
      ]
     },
     "execution_count": 20,
     "metadata": {},
     "output_type": "execute_result"
    }
   ],
   "source": [
    "#Veo el tamaño del dataset origen\n",
    "df_train.shape"
   ]
  },
  {
   "cell_type": "code",
   "execution_count": 21,
   "metadata": {},
   "outputs": [
    {
     "data": {
      "text/plain": [
       "(244386, 17)"
      ]
     },
     "execution_count": 21,
     "metadata": {},
     "output_type": "execute_result"
    }
   ],
   "source": [
    "#Veo el tamaño del dataset testear\n",
    "df_test.shape"
   ]
  },
  {
   "cell_type": "markdown",
   "metadata": {},
   "source": [
    "### Defino la variable a predecir"
   ]
  },
  {
   "cell_type": "code",
   "execution_count": 38,
   "metadata": {},
   "outputs": [],
   "source": [
    "# Defino mi variable target (y), variable a definir\n",
    "y = df_train.averageRating\n",
    "\n",
    "# Defino mis atributos/features (x)\n",
    "vars=['numVotes', 'isAdult', 'startYear', \"endYear\", \"runtimeMinutes\", \"seasonNumber\", \"episodeNumber\", \"popularity\", \"cantidad_writers\", \"cantidad_directors\", \"frec_titleType\", \"frec_genres_x\", \"cantidad_generos\", \"frec_ori_language\", \"frec_companies\", \"frec_countries\", \"duracion\"]\n",
    "X=df_train[vars]"
   ]
  },
  {
   "cell_type": "markdown",
   "metadata": {},
   "source": [
    "### Entreno el modelo"
   ]
  },
  {
   "cell_type": "code",
   "execution_count": 39,
   "metadata": {},
   "outputs": [],
   "source": [
    "#Creo un modelo regresion lineal\n",
    "modelo_regresion = linear_model.LinearRegression()\n",
    "# Entrenar el modelo \n",
    "modelo_regresion.fit(X,y)\n",
    "# Realiza las predicciones del conjunto de entrenamiento\n",
    "Yest = modelo_regresion.predict(X)\n"
   ]
  },
  {
   "cell_type": "markdown",
   "metadata": {},
   "source": [
    "### Calcula el coeficiente R2"
   ]
  },
  {
   "cell_type": "code",
   "execution_count": 40,
   "metadata": {},
   "outputs": [
    {
     "data": {
      "text/plain": [
       "0.08849960842504967"
      ]
     },
     "execution_count": 40,
     "metadata": {},
     "output_type": "execute_result"
    }
   ],
   "source": [
    "#Saco el score\n",
    "modelo_regresion.score(X,y)"
   ]
  },
  {
   "cell_type": "markdown",
   "metadata": {},
   "source": [
    "### Hago las predicciones"
   ]
  },
  {
   "cell_type": "code",
   "execution_count": 41,
   "metadata": {},
   "outputs": [],
   "source": [
    "# Realizo las predicciones en el conjunto de test usando los features de ese dataset\n",
    "Yest = modelo_regresion.predict(df_test[vars])"
   ]
  },
  {
   "cell_type": "markdown",
   "metadata": {},
   "source": [
    "### Guardo las predicciones en un CSV"
   ]
  },
  {
   "cell_type": "code",
   "execution_count": 42,
   "metadata": {},
   "outputs": [],
   "source": [
    "# Creo un dataframe con las predicciones y convierte los valores a tipo de dato cadena\n",
    "salida = pd.DataFrame(data={\"averageRating\": Yest}).astype(str)\n",
    "# Asigna los índices del dataframe de test a la salida\n",
    "salida.index = df_test.index\n",
    "# Guarda las predicciones en un CSV llamado baseline\n",
    "salida.to_csv(\"baseline.csv\", sep=',',index=True,  index_label='Id')"
   ]
  }
 ],
 "metadata": {
  "kernelspec": {
   "display_name": "Python 3",
   "language": "python",
   "name": "python3"
  },
  "language_info": {
   "codemirror_mode": {
    "name": "ipython",
    "version": 3
   },
   "file_extension": ".py",
   "mimetype": "text/x-python",
   "name": "python",
   "nbconvert_exporter": "python",
   "pygments_lexer": "ipython3",
   "version": "3.11.6"
  }
 },
 "nbformat": 4,
 "nbformat_minor": 2
}
