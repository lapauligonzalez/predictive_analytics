{
 "cells": [
  {
   "cell_type": "markdown",
   "metadata": {},
   "source": [
    "### Librerias que voy a usar"
   ]
  },
  {
   "cell_type": "code",
   "execution_count": 1,
   "metadata": {},
   "outputs": [],
   "source": [
    "import os\n",
    "import pandas as pd\n",
    "import numpy as np\n",
    "import xgboost as xgb\n",
    "from sklearn import linear_model\n",
    "from sklearn.model_selection import train_test_split\n",
    "from sklearn.metrics import mean_squared_error, r2_score\n",
    "from xgboost import XGBRegressor"
   ]
  },
  {
   "cell_type": "markdown",
   "metadata": {},
   "source": [
    "### Establezco mi directorio"
   ]
  },
  {
   "cell_type": "code",
   "execution_count": 2,
   "metadata": {},
   "outputs": [],
   "source": [
    "current_directory = os.getcwd()\n",
    "script_directory = \"C:/Users/paula/OneDrive/Documentos/Facultad/Análisis Predictivo/segundo_parcial\"  # Reemplaza esto con la ruta de tu script\n",
    "os.chdir(script_directory)"
   ]
  },
  {
   "cell_type": "markdown",
   "metadata": {},
   "source": [
    "### Cargo los datos"
   ]
  },
  {
   "cell_type": "code",
   "execution_count": 3,
   "metadata": {},
   "outputs": [],
   "source": [
    "df_train = pd.read_excel(\"origen_limpio.xlsx\") # Cargar el conjunto de datos de origen\n",
    "df_test = pd.read_excel(\"testear_limpio.xlsx\") # Cargar el conjunto de datos de testeo"
   ]
  },
  {
   "cell_type": "code",
   "execution_count": 4,
   "metadata": {},
   "outputs": [
    {
     "data": {
      "text/plain": [
       "(977541, 19)"
      ]
     },
     "execution_count": 4,
     "metadata": {},
     "output_type": "execute_result"
    }
   ],
   "source": [
    "#Veo el tamaño del dataset origen\n",
    "df_train.shape"
   ]
  },
  {
   "cell_type": "code",
   "execution_count": 5,
   "metadata": {},
   "outputs": [
    {
     "data": {
      "text/plain": [
       "(244386, 18)"
      ]
     },
     "execution_count": 5,
     "metadata": {},
     "output_type": "execute_result"
    }
   ],
   "source": [
    "#Veo el tamaño del dataset testear\n",
    "df_test.shape"
   ]
  },
  {
   "cell_type": "markdown",
   "metadata": {},
   "source": [
    "### Defino la variable a predecir"
   ]
  },
  {
   "cell_type": "code",
   "execution_count": 6,
   "metadata": {},
   "outputs": [],
   "source": [
    "# Defino mi variable target (y), variable a definir\n",
    "y = df_train.averageRating\n",
    "# Defino mis atributos/features (x)\n",
    "vars=['numVotes', 'isAdult', 'startYear', \"endYear\", \"runtimeMinutes\", \"seasonNumber\", \"episodeNumber\", \"popularity\", \"cantidad_writers\", \"cantidad_directors\", \"frec_titleType\", \"frec_genres_x\", \"cantidad_generos\", \"frec_ori_language\", \"frec_companies\", \"frec_countries\", \"duracion\"]\n",
    "X = df_train[vars]"
   ]
  },
  {
   "cell_type": "markdown",
   "metadata": {},
   "source": [
    "### Divido los datos del dataset de entrenamiento "
   ]
  },
  {
   "cell_type": "code",
   "execution_count": 7,
   "metadata": {},
   "outputs": [],
   "source": [
    "#Divido los datos en conjuntos de entrenamiento y prueba\n",
    "X_train, X_test, y_train, y_test = train_test_split(X, y, test_size=0.2, random_state=42)"
   ]
  },
  {
   "cell_type": "markdown",
   "metadata": {},
   "source": [
    "### Entreno el modelo y testeo el score sobre datos de entrenamiento"
   ]
  },
  {
   "cell_type": "code",
   "execution_count": 8,
   "metadata": {},
   "outputs": [
    {
     "name": "stdout",
     "output_type": "stream",
     "text": [
      "R^2 score on testing data: 0.3331\n"
     ]
    }
   ],
   "source": [
    "regresion = XGBRegressor() \n",
    "\n",
    "regresion.fit(X_train, y_train)\n",
    "score = regresion.score(X_test, y_test)\n",
    "\n",
    "print(\"R^2 score on testing data: {:.4f}\".format(score)) "
   ]
  },
  {
   "cell_type": "code",
   "execution_count": 9,
   "metadata": {},
   "outputs": [
    {
     "name": "stdout",
     "output_type": "stream",
     "text": [
      "R^2 score on testing data: 0.3823\n"
     ]
    }
   ],
   "source": [
    "regresion = XGBRegressor(\n",
    "    n_estimators=100,  # Número de árboles de decisión\n",
    "    learning_rate=0.5,  # Tasa de aprendizaje\n",
    "    max_depth=12,  # Profundidad máxima del árbol\n",
    "    subsample=0.8,  # Muestra de filas\n",
    "    colsample_bytree=0.8  # Muestra de columnas\n",
    ")\n",
    "\n",
    "# Entrenas el modelo y evalúas el rendimiento\n",
    "regresion.fit(X_train, y_train)\n",
    "score = regresion.score(X_test, y_test)\n",
    "\n",
    "print(\"R^2 score on testing data: {:.4f}\".format(score))"
   ]
  },
  {
   "cell_type": "markdown",
   "metadata": {},
   "source": [
    "### Predigo los valores y exporto en un CSV"
   ]
  },
  {
   "cell_type": "code",
   "execution_count": 10,
   "metadata": {},
   "outputs": [],
   "source": [
    "Yest = regresion.predict(df_test[vars])\n",
    "\n",
    "# Creo un dataframe con las predicciones y convierte los valores a tipo de dato cadena\n",
    "salida = pd.DataFrame(data={\"averageRating\": Yest}).astype(str)\n",
    "# Asigna los índices del dataframe de test a la salida\n",
    "salida.index = df_test.index\n",
    "# Guarda las predicciones en un CSV llamado baseline\n",
    "salida.to_csv(\"modelo6.csv\", sep=',',index=True,  index_label='Id')"
   ]
  }
 ],
 "metadata": {
  "kernelspec": {
   "display_name": "Python 3",
   "language": "python",
   "name": "python3"
  },
  "language_info": {
   "codemirror_mode": {
    "name": "ipython",
    "version": 3
   },
   "file_extension": ".py",
   "mimetype": "text/x-python",
   "name": "python",
   "nbconvert_exporter": "python",
   "pygments_lexer": "ipython3",
   "version": "3.11.6"
  }
 },
 "nbformat": 4,
 "nbformat_minor": 2
}
