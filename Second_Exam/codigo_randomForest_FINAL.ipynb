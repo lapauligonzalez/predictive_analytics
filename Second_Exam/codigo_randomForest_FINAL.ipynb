{
 "cells": [
  {
   "cell_type": "code",
   "execution_count": 15,
   "metadata": {},
   "outputs": [],
   "source": [
    "import os\n",
    "import pandas as pd\n",
    "import numpy as np\n",
    "from sklearn.ensemble import RandomForestRegressor\n",
    "from sklearn import linear_model\n",
    "from sklearn.model_selection import train_test_split\n",
    "from sklearn.metrics import mean_squared_error, r2_score\n",
    "from sklearn.model_selection import RandomizedSearchCV\n",
    "from scipy.stats import randint"
   ]
  },
  {
   "cell_type": "code",
   "execution_count": 16,
   "metadata": {},
   "outputs": [],
   "source": [
    "current_directory = os.getcwd()\n",
    "script_directory = \"C:/Users/paula/OneDrive/Documentos/Facultad/Análisis Predictivo/segundo_parcial\"  # Reemplaza esto con la ruta de tu script\n",
    "os.chdir(script_directory)"
   ]
  },
  {
   "cell_type": "code",
   "execution_count": 17,
   "metadata": {},
   "outputs": [],
   "source": [
    "df_train = pd.read_excel(\"origen_limpio.xlsx\") # Cargar el conjunto de datos de origen\n",
    "df_test = pd.read_excel(\"testear_limpio.xlsx\") # Cargar el conjunto de datos de testeo"
   ]
  },
  {
   "cell_type": "code",
   "execution_count": 18,
   "metadata": {},
   "outputs": [],
   "source": [
    "# Defino mi variable target (y), variable a definir\n",
    "y = df_train.averageRating\n",
    "# Defino mis atributos/features (x)\n",
    "vars=['numVotes', 'isAdult', 'startYear', \"endYear\", \"runtimeMinutes\", \"seasonNumber\", \"episodeNumber\", \"popularity\", \"cantidad_writers\", \"cantidad_directors\", \"frec_titleType\", \"frec_genres_x\", \"cantidad_generos\", \"frec_ori_language\", \"frec_companies\", \"frec_countries\", \"duracion\"]\n",
    "X = df_train[vars]"
   ]
  },
  {
   "cell_type": "code",
   "execution_count": 19,
   "metadata": {},
   "outputs": [],
   "source": [
    "#Divido los datos en conjuntos de entrenamiento y prueba\n",
    "X_train, X_test, y_train, y_test = train_test_split(X, y, test_size=0.2, random_state=42)"
   ]
  },
  {
   "cell_type": "code",
   "execution_count": 24,
   "metadata": {},
   "outputs": [
    {
     "name": "stdout",
     "output_type": "stream",
     "text": [
      "R^2 score on testing data: 0.4325\n"
     ]
    }
   ],
   "source": [
    "hiperparametros = {\n",
    "    'n_estimators': 100,  # Número de árboles en el bosque\n",
    "    'max_depth': None,    \n",
    "    # Profundidad máxima de los árboles (None implica que los árboles se expandirán hasta que todas las hojas contengan menos de min_samples_split muestras)\n",
    "    'min_samples_split': 3,  # Número mínimo de muestras requeridas para dividir un nodo interno\n",
    "    'min_samples_leaf': 1,   # Número mínimo de muestras requeridas para estar en un nodo hoja\n",
    "    'max_features': 'sqrt',  # Cambiado de 'auto' a 'sqrt' (puedes usar también 'auto' o algún número entero)\n",
    "    'random_state': 42  # Semilla para reproducibilidad\n",
    "}\n",
    "\n",
    "regresion = RandomForestRegressor(**hiperparametros)\n",
    "\n",
    "regresion.fit(X_train, y_train)\n",
    "score = regresion.score(X_test, y_test)\n",
    "\n",
    "print(\"R^2 score on testing data: {:.4f}\".format(score)) "
   ]
  },
  {
   "cell_type": "code",
   "execution_count": 25,
   "metadata": {},
   "outputs": [],
   "source": [
    "Yest = regresion.predict(df_test[vars])\n",
    "\n",
    "# Creo un dataframe con las predicciones y convierte los valores a tipo de dato cadena\n",
    "salida = pd.DataFrame(data={\"averageRating\": Yest}).astype(str)\n",
    "# Asigna los índices del dataframe de test a la salida\n",
    "salida.index = df_test.index\n",
    "# Guarda las predicciones en un CSV llamado baseline\n",
    "salida.to_csv(\"modelo5.csv\", sep=',',index=True,  index_label='Id')"
   ]
  }
 ],
 "metadata": {
  "kernelspec": {
   "display_name": "Python 3",
   "language": "python",
   "name": "python3"
  },
  "language_info": {
   "codemirror_mode": {
    "name": "ipython",
    "version": 3
   },
   "file_extension": ".py",
   "mimetype": "text/x-python",
   "name": "python",
   "nbconvert_exporter": "python",
   "pygments_lexer": "ipython3",
   "version": "3.11.6"
  }
 },
 "nbformat": 4,
 "nbformat_minor": 2
}
